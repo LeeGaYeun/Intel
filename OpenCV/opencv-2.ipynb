{
 "cells": [
  {
   "cell_type": "code",
   "execution_count": 4,
   "metadata": {},
   "outputs": [
    {
     "name": "stdout",
     "output_type": "stream",
     "text": [
      "(512, 512, 3)\n",
      "[127 136 226]\n",
      "786432\n",
      "786432\n"
     ]
    }
   ],
   "source": [
    "import cv2\n",
    "img = cv2.imread(\"images/lena.jpg\")\n",
    "print(img.shape)\n",
    "\n",
    "print(img[0,0])\n",
    "print(img.size)\n",
    "print(512*512*3)"
   ]
  }
 ],
 "metadata": {
  "kernelspec": {
   "display_name": "Python 3",
   "language": "python",
   "name": "python3"
  },
  "language_info": {
   "codemirror_mode": {
    "name": "ipython",
    "version": 3
   },
   "file_extension": ".py",
   "mimetype": "text/x-python",
   "name": "python",
   "nbconvert_exporter": "python",
   "pygments_lexer": "ipython3",
   "version": "3.11.7"
  }
 },
 "nbformat": 4,
 "nbformat_minor": 2
}
